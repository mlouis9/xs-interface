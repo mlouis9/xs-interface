{
 "cells": [
  {
   "cell_type": "markdown",
   "metadata": {},
   "source": [
    "# Generate Cross Sections"
   ]
  },
  {
   "cell_type": "markdown",
   "metadata": {},
   "source": [
    "This Notebook demonestrates how to read cross sections from a serpent ``_res.m`` file. The capabilities to store and process the data are also presented."
   ]
  },
  {
   "cell_type": "markdown",
   "metadata": {},
   "source": [
    "## Case Description"
   ]
  },
  {
   "cell_type": "markdown",
   "metadata": {},
   "source": [
    "The ``.\\inputs`` directory includes:\n",
    "- ``bwr_rho1_2gr`` a serpent input file. This is a 3D BWR assembly divided into 36 layers (i.e., universes 1,2,...,36) of fuel surrounded by a bottom (universe 54) and upper layers (universe 55) of reflectors.\n",
    "- ``bwr_rho1_2gr_res.m`` a serpent results file with all the cross sections.\n",
    "- ``univs`` a file that describes how to read ``bwr_rho1_2gr_res.m``\n",
    "- ``controlDict`` the main files that is required by the ``xsInterface``."
   ]
  },
  {
   "cell_type": "markdown",
   "metadata": {},
   "source": [
    "### Required imports"
   ]
  },
  {
   "cell_type": "code",
   "execution_count": 18,
   "metadata": {},
   "outputs": [],
   "source": [
    "from xsInterface.functions.main import Main"
   ]
  },
  {
   "cell_type": "code",
   "execution_count": 19,
   "metadata": {},
   "outputs": [],
   "source": [
    "inputFile = \".\\\\inputs\\\\controlDict\""
   ]
  },
  {
   "cell_type": "markdown",
   "metadata": {},
   "source": [
    "### Read the cross sections"
   ]
  },
  {
   "cell_type": "code",
   "execution_count": 20,
   "metadata": {},
   "outputs": [
    {
     "name": "stdout",
     "output_type": "stream",
     "text": [
      "... Reading control dict ...\n",
      "<.\\inputs\\controlDict>\n",
      "\n"
     ]
    }
   ],
   "source": [
    "# Reset the main object\n",
    "xs = Main(inputFile)"
   ]
  },
  {
   "cell_type": "markdown",
   "metadata": {},
   "source": [
    "#### Read xs data without populating the templates"
   ]
  },
  {
   "cell_type": "code",
   "execution_count": 21,
   "metadata": {},
   "outputs": [
    {
     "name": "stderr",
     "output_type": "stream",
     "text": [
      "SERPENT Serpent 2.1.32 found in .\\inputs\\bwr_rho1_2gr_res.m, but version 2.1.31 is defined in settings\n",
      "  Attemping to read anyway. Please report strange behaviors/failures to developers.\n"
     ]
    },
    {
     "name": "stdout",
     "output_type": "stream",
     "text": [
      "... Reading universe <u> ...\n",
      "... Reading coe/_res.m file for hisotry <nom> ...\n"
     ]
    }
   ],
   "source": [
    "xs.Read(readUniverses=True)"
   ]
  },
  {
   "cell_type": "markdown",
   "metadata": {},
   "source": [
    "### Process results"
   ]
  },
  {
   "cell_type": "code",
   "execution_count": 22,
   "metadata": {},
   "outputs": [
    {
     "data": {
      "text/html": [
       "<div>\n",
       "<style scoped>\n",
       "    .dataframe tbody tr th:only-of-type {\n",
       "        vertical-align: middle;\n",
       "    }\n",
       "\n",
       "    .dataframe tbody tr th {\n",
       "        vertical-align: top;\n",
       "    }\n",
       "\n",
       "    .dataframe thead th {\n",
       "        text-align: right;\n",
       "    }\n",
       "</style>\n",
       "<table border=\"1\" class=\"dataframe\">\n",
       "  <thead>\n",
       "    <tr style=\"text-align: right;\">\n",
       "      <th></th>\n",
       "      <th>history</th>\n",
       "      <th>time</th>\n",
       "      <th>dens</th>\n",
       "      <th>infnsf</th>\n",
       "      <th>infrabsxs</th>\n",
       "    </tr>\n",
       "  </thead>\n",
       "  <tbody>\n",
       "    <tr>\n",
       "      <th>0</th>\n",
       "      <td>nom</td>\n",
       "      <td>0.0</td>\n",
       "      <td>700.0</td>\n",
       "      <td>[0.00780015, 0.154742]</td>\n",
       "      <td>[0.00988701, 0.0895764]</td>\n",
       "    </tr>\n",
       "  </tbody>\n",
       "</table>\n",
       "</div>"
      ],
      "text/plain": [
       "  history  time   dens                  infnsf                infrabsxs\n",
       "0     nom   0.0  700.0  [0.00780015, 0.154742]  [0.00988701, 0.0895764]"
      ]
     },
     "execution_count": 22,
     "metadata": {},
     "output_type": "execute_result"
    }
   ],
   "source": [
    "xs.Table(\"u1\", ['infnsf', 'infrabsxs'])"
   ]
  },
  {
   "cell_type": "code",
   "execution_count": 23,
   "metadata": {},
   "outputs": [
    {
     "data": {
      "text/plain": [
       "{'history': array(['nom'], dtype='<U3'),\n",
       " 'time': array([0.]),\n",
       " 'dens': array([700.]),\n",
       " 'infnsf': [array([0.00780015, 0.154742  ])]}"
      ]
     },
     "execution_count": 23,
     "metadata": {},
     "output_type": "execute_result"
    }
   ],
   "source": [
    "xs.Values(\"u1\", 'infnsf')"
   ]
  },
  {
   "cell_type": "code",
   "execution_count": 35,
   "metadata": {},
   "outputs": [],
   "source": [
    "results = {}\n",
    "for i in range(1, 5):\n",
    "    univId = \"u\"+str(int(i))\n",
    "    results[univId] = xs.Values(univId, 'infsp0')"
   ]
  },
  {
   "cell_type": "code",
   "execution_count": 36,
   "metadata": {},
   "outputs": [
    {
     "data": {
      "text/plain": [
       "{'u1': {'history': array(['nom'], dtype='<U3'),\n",
       "  'time': array([0.]),\n",
       "  'dens': array([700.]),\n",
       "  'infsp0': [array([[0.517267  , 0.0169944 ],\n",
       "          [0.00151575, 1.25447   ]])]},\n",
       " 'u2': {'history': array(['nom'], dtype='<U3'),\n",
       "  'time': array([0.]),\n",
       "  'dens': array([700.]),\n",
       "  'infsp0': [array([[0.518501  , 0.0167034 ],\n",
       "          [0.00161828, 1.24887   ]])]},\n",
       " 'u3': {'history': array(['nom'], dtype='<U3'),\n",
       "  'time': array([0.]),\n",
       "  'dens': array([700.]),\n",
       "  'infsp0': [array([[0.518396  , 0.0166698 ],\n",
       "          [0.00161741, 1.24832   ]])]},\n",
       " 'u4': {'history': array(['nom'], dtype='<U3'),\n",
       "  'time': array([0.]),\n",
       "  'dens': array([700.]),\n",
       "  'infsp0': [array([[0.517767  , 0.0166212 ],\n",
       "          [0.00162702, 1.24614   ]])]}}"
      ]
     },
     "execution_count": 36,
     "metadata": {},
     "output_type": "execute_result"
    }
   ],
   "source": [
    "results"
   ]
  },
  {
   "cell_type": "code",
   "execution_count": null,
   "metadata": {},
   "outputs": [],
   "source": []
  }
 ],
 "metadata": {
  "kernelspec": {
   "display_name": "Python 3 (ipykernel)",
   "language": "python",
   "name": "python3"
  },
  "language_info": {
   "codemirror_mode": {
    "name": "ipython",
    "version": 3
   },
   "file_extension": ".py",
   "mimetype": "text/x-python",
   "name": "python",
   "nbconvert_exporter": "python",
   "pygments_lexer": "ipython3",
   "version": "3.9.7"
  }
 },
 "nbformat": 4,
 "nbformat_minor": 2
}
