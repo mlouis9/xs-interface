{
 "cells": [
  {
   "cell_type": "markdown",
   "metadata": {},
   "source": [
    "# Read and Write Cross Sections"
   ]
  },
  {
   "cell_type": "markdown",
   "metadata": {},
   "source": [
    "This Notebook demonestrates how to read cross sections from a serpent ``_res.m`` file, and write these cross sections using a template file."
   ]
  },
  {
   "cell_type": "markdown",
   "metadata": {},
   "source": [
    "## Case Description"
   ]
  },
  {
   "cell_type": "markdown",
   "metadata": {},
   "source": [
    "The ``.\\inputs`` directory includes:\n",
    "- ``bwr_rho1_2gr`` a serpent input file. This is a 3D BWR assembly divided into 36 layers (i.e., universes 1,2,...,36) of fuel surrounded by a bottom (universe 54) and upper layers (universe 55) of reflectors.\n",
    "- ``bwr_rho1_2gr_res.m`` a serpent results file with all the cross sections.\n",
    "- ``univs`` a file that describes how to read ``bwr_rho1_2gr_res.m``\n",
    "- ``template_dyn3d_2g`` is a template file that specifies how cross sections should be printed out.\n",
    "- ``controlDict`` the main files that is required by the ``xsInterface``.\n",
    "\n",
    "The ``.\\outputs`` directory will include all the files with printed cross sections."
   ]
  },
  {
   "cell_type": "markdown",
   "metadata": {},
   "source": [
    "### Required imports"
   ]
  },
  {
   "cell_type": "code",
   "execution_count": 1,
   "metadata": {},
   "outputs": [],
   "source": [
    "from xsInterface.functions.main import Main"
   ]
  },
  {
   "cell_type": "code",
   "execution_count": 2,
   "metadata": {},
   "outputs": [],
   "source": [
    "inputFile = \".\\\\inputs\\\\controlDict\""
   ]
  },
  {
   "cell_type": "markdown",
   "metadata": {},
   "source": [
    "### Read the cross sections"
   ]
  },
  {
   "cell_type": "code",
   "execution_count": 3,
   "metadata": {},
   "outputs": [
    {
     "name": "stdout",
     "output_type": "stream",
     "text": [
      "... Reading control dict ...\n",
      "<.\\inputs\\controlDict>\n",
      "\n"
     ]
    }
   ],
   "source": [
    "# Reset the main object\n",
    "xs = Main(inputFile)"
   ]
  },
  {
   "cell_type": "markdown",
   "metadata": {},
   "source": [
    "#### Read xs data without populating the templates"
   ]
  },
  {
   "cell_type": "code",
   "execution_count": 4,
   "metadata": {},
   "outputs": [
    {
     "name": "stderr",
     "output_type": "stream",
     "text": [
      "SERPENT Serpent 2.1.32 found in .\\inputs\\bwr_rho1_2gr_res.m, but version 2.1.31 is defined in settings\n",
      "  Attemping to read anyway. Please report strange behaviors/failures to developers.\n"
     ]
    },
    {
     "name": "stdout",
     "output_type": "stream",
     "text": [
      "... Reading universe <u> ...\n",
      "... Reading coe/_res.m file for hisotry <nom> ...\n"
     ]
    }
   ],
   "source": [
    "# readTemplate allows to read and populate data using the templates\n",
    "xs.Read(readUniverses=True, readTemplate=True)"
   ]
  },
  {
   "cell_type": "markdown",
   "metadata": {},
   "source": [
    "### Write to output files"
   ]
  },
  {
   "cell_type": "code",
   "execution_count": 5,
   "metadata": {},
   "outputs": [
    {
     "name": "stdout",
     "output_type": "stream",
     "text": [
      "\n",
      "\n",
      "... Writing cross sections ...\n",
      "\n",
      "\n"
     ]
    }
   ],
   "source": [
    "xs.Write()"
   ]
  },
  {
   "cell_type": "markdown",
   "metadata": {},
   "source": [
    "All the files should be written to the ``.\\outputs`` directory"
   ]
  },
  {
   "cell_type": "code",
   "execution_count": null,
   "metadata": {},
   "outputs": [],
   "source": []
  }
 ],
 "metadata": {
  "kernelspec": {
   "display_name": "Python 3 (ipykernel)",
   "language": "python",
   "name": "python3"
  },
  "language_info": {
   "codemirror_mode": {
    "name": "ipython",
    "version": 3
   },
   "file_extension": ".py",
   "mimetype": "text/x-python",
   "name": "python",
   "nbconvert_exporter": "python",
   "pygments_lexer": "ipython3",
   "version": "3.9.7"
  }
 },
 "nbformat": 4,
 "nbformat_minor": 2
}
