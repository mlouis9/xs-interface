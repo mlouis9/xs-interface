{
 "cells": [
  {
   "cell_type": "markdown",
   "id": "505ab730",
   "metadata": {},
   "source": [
    "# xsInterface Workshop"
   ]
  },
  {
   "cell_type": "markdown",
   "id": "01ffb8e7",
   "metadata": {},
   "source": [
    "The goal of this workshop is to introduce the various features of the ``xsInterface`` package"
   ]
  },
  {
   "cell_type": "markdown",
   "id": "967a5aae",
   "metadata": {},
   "source": [
    "## Directories & Files"
   ]
  },
  {
   "cell_type": "markdown",
   "id": "984a4c55",
   "metadata": {},
   "source": [
    "- ``dyn3d dir`` includes a previously generated file that we be used to built our template file.\n",
    "- ``serpent dir`` includes the input file and the original and modified .coe file from which data will be read by xsInterface\n",
    "- ``xsinterface dir`` includes the complete input setups\n",
    "- ``workshopfiles`` inlcude all the files we need to define\n",
    "\n",
    "For the purpose of this workshop you are required to create a new directory (name of your choice) with the content within ``workshopfiles``:\n",
    "- inpupts.\n",
    "- outputs\n",
    "- ``.py`` script\n",
    "\n",
    "In the ``inputs`` dir make sure you have:\n",
    "- ``mod_branches.coe``\n",
    "- Empty txt files named ``controldict``, ``template``, and ``univ0``"
   ]
  },
  {
   "cell_type": "markdown",
   "id": "dde53737",
   "metadata": {},
   "source": [
    "## Universe File"
   ]
  },
  {
   "cell_type": "markdown",
   "id": "3d2a897b",
   "metadata": {},
   "source": [
    "Here, we will define all the require fields needed to set up our problem."
   ]
  },
  {
   "cell_type": "markdown",
   "id": "68140b7c",
   "metadata": {},
   "source": [
    "### settings"
   ]
  },
  {
   "cell_type": "markdown",
   "id": "d6123da2",
   "metadata": {},
   "source": [
    "- Number of energy groups 2\n",
    "- Number od delayed neutron groups 9\n",
    "- Let's start with defining the ``flux`` variable and ``nsf``. Initially, only the ``nsf`` will be used to understand data streaming.\n",
    "- Open the ``mod_branches.coe`` and find their names. Make sure you use the variables as converted by the ``serpentTools``"
   ]
  },
  {
   "cell_type": "markdown",
   "id": "9f3c790e",
   "metadata": {},
   "source": [
    "**branches**\n",
    "\n",
    "boron 0.0, 527.4, 2250.0<br>\n",
    "dens 630.0, 701.5, 780.0<br>\n",
    "\n",
    "\n",
    "\n",
    "**histories**\n",
    "\n",
    "- Define a ``nom`` hisotry\n",
    "\n",
    "**times**\n",
    "\n",
    "- Define a single 0.0 timepoint\n",
    "\n",
    "**labels**\n",
    "\n",
    " Make sure labels correspon to the values in the ``branches`` card as well as their names in the ``mod_branches.coe`` file\n",
    " \n",
    "**serpent**\n",
    "- Energy structure is: 10MeV, 0.6025eV, 0.0eV\n",
    "- Define the path to the history file, i.e., .\\inputs\\...coe\n",
    "\n",
    "Exclude the ``manipulate`` and ``filter`` cards"
   ]
  },
  {
   "cell_type": "markdown",
   "id": "e64a9fb5",
   "metadata": {},
   "source": [
    "## Template File"
   ]
  },
  {
   "cell_type": "markdown",
   "id": "5d2b93a0",
   "metadata": {},
   "source": [
    "This diretory includes a very simple sample of how to pprint the ``nsf`` variable. Do not change it at this point."
   ]
  },
  {
   "cell_type": "markdown",
   "id": "34faab60",
   "metadata": {},
   "source": [
    "## Controldict File"
   ]
  },
  {
   "cell_type": "markdown",
   "id": "78275b5e",
   "metadata": {},
   "source": [
    "- set universes files\n",
    "- set serpent card\n",
    "- set templates\n",
    "- set outputs\n",
    "- set links\n",
    "- set formats"
   ]
  },
  {
   "cell_type": "markdown",
   "id": "fa78002c",
   "metadata": {},
   "source": [
    "**Execute** the ``generate_exe.py`` script to see that all the data is generated properly. "
   ]
  },
  {
   "cell_type": "markdown",
   "id": "8a3b46c5",
   "metadata": {},
   "source": [
    "## Adjust to print data in DYN3D format"
   ]
  },
  {
   "cell_type": "markdown",
   "id": "13fc9ef9",
   "metadata": {},
   "source": [
    "- Use the ``nemtab`` format and the ``reference`` file under the ``dyn3d`` directory to define a template file.\n",
    "- Update the data in ``settings`` card. Do not manipulate the data for the ``fissKappa`` variable yet. The following fields must be included:\n",
    "    - macro\n",
    "    - kinetics\n",
    "    - meta (for DFs)\n",
    "- Add ``manipulate`` card to create the ``fissKappa`` in joules (2 conversions are required)"
   ]
  },
  {
   "cell_type": "markdown",
   "id": "36b5680b",
   "metadata": {},
   "source": [
    "Do not forget to compare between the reference file and the file you have created. The numbers can be slightly different, but similar."
   ]
  },
  {
   "cell_type": "code",
   "execution_count": null,
   "id": "b37b13b6",
   "metadata": {},
   "outputs": [],
   "source": []
  }
 ],
 "metadata": {
  "kernelspec": {
   "display_name": "Python 3 (ipykernel)",
   "language": "python",
   "name": "python3"
  },
  "language_info": {
   "codemirror_mode": {
    "name": "ipython",
    "version": 3
   },
   "file_extension": ".py",
   "mimetype": "text/x-python",
   "name": "python",
   "nbconvert_exporter": "python",
   "pygments_lexer": "ipython3",
   "version": "3.9.7"
  }
 },
 "nbformat": 4,
 "nbformat_minor": 5
}
